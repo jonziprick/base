{
  "cells": [
    {
      "cell_type": "markdown",
      "metadata": {
        "id": "view-in-github",
        "colab_type": "text"
      },
      "source": [
        "<a href=\"https://colab.research.google.com/github/jonziprick/base/blob/main/Exercise_1_06.ipynb\" target=\"_parent\"><img src=\"https://colab.research.google.com/assets/colab-badge.svg\" alt=\"Open In Colab\"/></a>"
      ]
    },
    {
      "cell_type": "code",
      "execution_count": 1,
      "metadata": {
        "id": "RY5fEiCaaeDy"
      },
      "outputs": [],
      "source": [
        "import tensorflow as tf\n",
        "w=tf.Variable(0.0)\n",
        "b=tf.Variable(0.0)"
      ]
    },
    {
      "cell_type": "code",
      "execution_count": 2,
      "metadata": {
        "id": "gRsuPpW1aeD6"
      },
      "outputs": [],
      "source": [
        "def regression(x):\n",
        "    model=w*x+b\n",
        "    return model"
      ]
    },
    {
      "cell_type": "code",
      "execution_count": 3,
      "metadata": {
        "id": "s9oi0eWGaeD6"
      },
      "outputs": [],
      "source": [
        "x=[1,2,3,4]\n",
        "y=[0,-1,-2,-3]"
      ]
    },
    {
      "cell_type": "code",
      "execution_count": 4,
      "metadata": {
        "id": "CG6rtTmxaeD6"
      },
      "outputs": [],
      "source": [
        "loss=lambda:abs(regression(x)-y)"
      ]
    },
    {
      "cell_type": "code",
      "execution_count": 5,
      "metadata": {
        "id": "BtXIuyw2aeD7"
      },
      "outputs": [],
      "source": [
        "optimizer=tf.optimizers.SGD(.01)"
      ]
    },
    {
      "cell_type": "code",
      "execution_count": 6,
      "metadata": {
        "id": "0Rb6mxvWaeD7"
      },
      "outputs": [],
      "source": [
        "for i in range(2000):\n",
        "    optimizer.minimize(loss,[w,b])"
      ]
    },
    {
      "cell_type": "code",
      "execution_count": 7,
      "metadata": {
        "colab": {
          "base_uri": "https://localhost:8080/"
        },
        "id": "6C2vfe6maeD7",
        "outputId": "783aa515-bc67-4bec-b9f0-3326927e49fe"
      },
      "outputs": [
        {
          "output_type": "stream",
          "name": "stdout",
          "text": [
            "-0.880001247 0.920000196\n"
          ]
        }
      ],
      "source": [
        "tf.print(w,b)"
      ]
    },
    {
      "cell_type": "code",
      "execution_count": 8,
      "metadata": {
        "colab": {
          "base_uri": "https://localhost:8080/"
        },
        "id": "88ZC-BshaeD7",
        "outputId": "737ef52a-f3d2-42ae-b120-0d92a176a7a1"
      },
      "outputs": [
        {
          "output_type": "stream",
          "name": "stdout",
          "text": [
            "[0.0399989486 -0.840002298 -1.72000349 -2.60000467]\n"
          ]
        }
      ],
      "source": [
        "tf.print(regression([1,2,3,4])) "
      ]
    },
    {
      "cell_type": "code",
      "execution_count": null,
      "metadata": {
        "id": "aY9VAKwQaeD8"
      },
      "outputs": [],
      "source": []
    }
  ],
  "metadata": {
    "kernelspec": {
      "display_name": "Python 3 (ipykernel)",
      "language": "python",
      "name": "python3"
    },
    "language_info": {
      "codemirror_mode": {
        "name": "ipython",
        "version": 3
      },
      "file_extension": ".py",
      "mimetype": "text/x-python",
      "name": "python",
      "nbconvert_exporter": "python",
      "pygments_lexer": "ipython3",
      "version": "3.7.13"
    },
    "colab": {
      "provenance": [],
      "include_colab_link": true
    }
  },
  "nbformat": 4,
  "nbformat_minor": 0
}
